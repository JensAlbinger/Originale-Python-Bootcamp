{
 "cells": [
  {
   "cell_type": "markdown",
   "metadata": {
    "collapsed": true
   },
   "source": [
    "# Widget Styling\n",
    "\n",
    "In dieser Lektion werden wir mehr darüber lernen, wie wir die vielen Möglichkeiten anwenden können, um Widgets zu stylen!"
   ]
  },
  {
   "cell_type": "code",
   "execution_count": 1,
   "metadata": {},
   "outputs": [
    {
     "data": {
      "text/html": [
       "<style>\n",
       ".example-container { background: #999999; padding: 2px; min-height: 100px; }\n",
       ".example-container.sm { min-height: 50px; }\n",
       ".example-box { background: #9999FF; width: 50px; height: 50px; text-align: center; vertical-align: middle; color: white; font-weight: bold; margin: 2px;}\n",
       ".example-box.med { width: 65px; height: 65px; }   \n",
       ".example-box.lrg { width: 80px; height: 80px; }   \n",
       "</style>"
      ],
      "text/plain": [
       "<IPython.core.display.HTML object>"
      ]
     },
     "metadata": {},
     "output_type": "display_data"
    }
   ],
   "source": [
    "%%html\n",
    "<style>\n",
    ".example-container { background: #999999; padding: 2px; min-height: 100px; }\n",
    ".example-container.sm { min-height: 50px; }\n",
    ".example-box { background: #9999FF; width: 50px; height: 50px; text-align: center; vertical-align: middle; color: white; font-weight: bold; margin: 2px;}\n",
    ".example-box.med { width: 65px; height: 65px; }   \n",
    ".example-box.lrg { width: 80px; height: 80px; }   \n",
    "</style>"
   ]
  },
  {
   "cell_type": "code",
   "execution_count": 2,
   "metadata": {
    "collapsed": true
   },
   "outputs": [],
   "source": [
    "import ipywidgets as widgets\n",
    "from IPython.display import display"
   ]
  },
  {
   "cell_type": "markdown",
   "metadata": {},
   "source": [
    "## Grundlegendes Styling\n",
    "\n",
    "Die Widgets, die wir durch iPython erzeugen, können durch folgende Eigenschaften angepasst werden:\n",
    "\n",
    "* width\n",
    "* height\n",
    "* background_color\n",
    "* border_color\n",
    "* border_width\n",
    "* border_style\n",
    "* font_style\n",
    "* font_weight\n",
    "* font_size\n",
    "* font_family \n",
    "\n",
    "Das folgende Beispiel zeigt, wie ein Button Widget gestylt werden kann:"
   ]
  },
  {
   "cell_type": "code",
   "execution_count": 5,
   "metadata": {},
   "outputs": [
    {
     "data": {
      "application/vnd.jupyter.widget-view+json": {
       "model_id": "9d95498e211f4ca2a31af4992616e963"
      }
     },
     "metadata": {},
     "output_type": "display_data"
    }
   ],
   "source": [
    "button = widgets.Button(\n",
    "    description='Hallo Welt!',\n",
    "    width=100, # Zahlen werden als Pixelmaß interpretiert.\n",
    "    height='2em', # em ist eine gültige HTML Einheit.\n",
    "    color='lime', # Farben können per Namen geändert werden,\n",
    "    background_color='#0022FF', # sowie durch ihren Code.\n",
    "    border_color='cyan')\n",
    "display(button)"
   ]
  },
  {
   "cell_type": "markdown",
   "metadata": {},
   "source": [
    "## Eltern/Kind Beziehungen\n",
    "\n",
    "Um ein Widget A innerhalb eines Widgets B anzuzeigen, muss Widget A ein Kind (child) von Widget B (parent) sein. Widgets, die andere WIdgets beinhalten können, besitzen das `children` Attribut. Dieses Attribut kann durch einen Stichwort Parameter bei der Erstellung eines Widgets angegeben werden. Alternativ nach der Erstellung. Wenn wir display() auf ein Widget anwenden, dass ein Kind hat, wird dieses Kind automatisch auch angezeigt."
   ]
  },
  {
   "cell_type": "code",
   "execution_count": 6,
   "metadata": {},
   "outputs": [
    {
     "data": {
      "application/vnd.jupyter.widget-view+json": {
       "model_id": "fe5bb7cf96594aea9a94bdd022947511"
      }
     },
     "metadata": {},
     "output_type": "display_data"
    }
   ],
   "source": [
    "float_range = widgets.FloatSlider()\n",
    "string = widgets.Text(value='Hi')\n",
    "container = widgets.Box(children=[float_range, string])\n",
    "\n",
    "container.border_color = 'red'\n",
    "container.border_style = 'dotted'\n",
    "container.border_width = 3\n",
    "display(container) # Zeigt den Behälter an und alle seine \"Kinder\""
   ]
  },
  {
   "cell_type": "markdown",
   "metadata": {},
   "source": [
    "### Nachdem das Eltern Widget angezeigt wurde\n",
    "\n",
    "Kinder können auch hinzugefügt werden, nachdem das Eltern Widget angezeigt wurde. Das Eltern Element ist dafür verantwortlich, seine Kinder auszuspielen."
   ]
  },
  {
   "cell_type": "code",
   "execution_count": 7,
   "metadata": {},
   "outputs": [
    {
     "data": {
      "application/vnd.jupyter.widget-view+json": {
       "model_id": "a524d4e93e8f4ed98cad9d0ed3778e65"
      }
     },
     "metadata": {},
     "output_type": "display_data"
    }
   ],
   "source": [
    "container = widgets.Box()\n",
    "container.border_color = 'red'\n",
    "container.border_style = 'dotted'\n",
    "container.border_width = 3\n",
    "display(container)\n",
    "\n",
    "int_range = widgets.IntSlider()\n",
    "container.children=[int_range]"
   ]
  },
  {
   "cell_type": "markdown",
   "metadata": {},
   "source": [
    "## Besondere Boxen\n",
    "\n",
    "Wenn wir eine etwas kompliziertere Kombination von Widgets anzeigen möchten, können wir spezielle Behälter dafür benutzen. Um mehrere WIdgets anzuzeigen, können wir `Accordion` oder `Tab` in Kombination mit einer Box benutzen (wie ihr unten sehen könnt). Die \"Seiten\" dieser Widgets sind ihre Kinder. Um den Titel der Seiten festzulegen nutzen wir `set_title`.\n",
    "\n",
    "### Accordion"
   ]
  },
  {
   "cell_type": "code",
   "execution_count": 8,
   "metadata": {},
   "outputs": [
    {
     "data": {
      "application/vnd.jupyter.widget-view+json": {
       "model_id": "a60a00c1ed9347aa8d1d168810d56007"
      }
     },
     "metadata": {},
     "output_type": "display_data"
    }
   ],
   "source": [
    "name1 = widgets.Text(description='Position:')\n",
    "zip1 = widgets.BoundedIntText(description='Zip:', min=0, max=99999)\n",
    "seite1 = widgets.Box(children=[name1, zip1])\n",
    "\n",
    "name2 = widgets.Text(description='Position:')\n",
    "zip2 = widgets.BoundedIntText(description='Zip:', min=0, max=99999)\n",
    "seite2 = widgets.Box(children=[name2, zip2])\n",
    "\n",
    "accord = widgets.Accordion(children=[seite1, seite2], width=400)\n",
    "display(accord)\n",
    "\n",
    "accord.set_title(0, 'Von')\n",
    "accord.set_title(1, 'Nach')"
   ]
  },
  {
   "cell_type": "markdown",
   "metadata": {},
   "source": [
    "### TabWidget"
   ]
  },
  {
   "cell_type": "code",
   "execution_count": 10,
   "metadata": {},
   "outputs": [
    {
     "data": {
      "application/vnd.jupyter.widget-view+json": {
       "model_id": "9a5f6bc19d9d49ef8648d3cb10c67581"
      }
     },
     "metadata": {},
     "output_type": "display_data"
    }
   ],
   "source": [
    "name = widgets.Text(description='Name:', padding=4)\n",
    "farbe = widgets.Dropdown(description='Farbe:', padding=4, options=['rot', 'orange', 'gelb', 'grün', 'blau', 'indigo', 'violet'])\n",
    "seite1 = widgets.Box(children=[name, farbe], padding=4)\n",
    "\n",
    "alter = widgets.IntSlider(description='Alter:', padding=4, min=0, max=120, value=50)\n",
    "geschlecht = widgets.RadioButtons(description='Geschlecht:', padding=4, options=['männlich', 'weiblich'])\n",
    "seite2 = widgets.Box(children=[alter, geschlecht], padding=4)\n",
    "\n",
    "tabs = widgets.Tab(children=[seite1, seite2])\n",
    "display(tabs)\n",
    "\n",
    "tabs.set_title(0, 'Name')\n",
    "tabs.set_title(1, 'Details')"
   ]
  },
  {
   "cell_type": "markdown",
   "metadata": {},
   "source": [
    "## Ausrichtung\n",
    "\n",
    "Die meisten Widgets haben ein `description` (dt.: Beschreibung) Attribut. Dieses erlaubt uns, einen Namen zu vergeben. Der Name des Widgets hat eine fixierte Mindestbreite. Der Text des Namens ist immer rechts ausgerichtet und das Widget links."
   ]
  },
  {
   "cell_type": "code",
   "execution_count": 12,
   "metadata": {},
   "outputs": [
    {
     "data": {
      "application/vnd.jupyter.widget-view+json": {
       "model_id": "eb06dcd9a9f64fabbbe90234452d879d"
      }
     },
     "metadata": {},
     "output_type": "display_data"
    },
    {
     "data": {
      "application/vnd.jupyter.widget-view+json": {
       "model_id": "0c2ce608d7094dfa849d4eb7ffa4e8d0"
      }
     },
     "metadata": {},
     "output_type": "display_data"
    },
    {
     "data": {
      "application/vnd.jupyter.widget-view+json": {
       "model_id": "54156f3fb9634c1fb89fba0f6cdc445f"
      }
     },
     "metadata": {},
     "output_type": "display_data"
    }
   ],
   "source": [
    "display(widgets.Text(description=\"a:\"))\n",
    "display(widgets.Text(description=\"aa:\"))\n",
    "display(widgets.Text(description=\"aaa:\"))"
   ]
  },
  {
   "cell_type": "markdown",
   "metadata": {},
   "source": [
    "Sollte der Name des Widgets länger als die Mindestbreite sein, wird das Widget nach rechts verschoben:"
   ]
  },
  {
   "cell_type": "code",
   "execution_count": 14,
   "metadata": {},
   "outputs": [
    {
     "data": {
      "application/vnd.jupyter.widget-view+json": {
       "model_id": "110379a41e154c7386ec71299af3971a"
      }
     },
     "metadata": {},
     "output_type": "display_data"
    },
    {
     "data": {
      "application/vnd.jupyter.widget-view+json": {
       "model_id": "f624ce8383e34b20a380101a294ae1fe"
      }
     },
     "metadata": {},
     "output_type": "display_data"
    },
    {
     "data": {
      "application/vnd.jupyter.widget-view+json": {
       "model_id": "38dd3bcd3d6b483781fc2c62808e36f9"
      }
     },
     "metadata": {},
     "output_type": "display_data"
    },
    {
     "data": {
      "application/vnd.jupyter.widget-view+json": {
       "model_id": "0ceaaf40e4604640b4b09c91af84f53b"
      }
     },
     "metadata": {},
     "output_type": "display_data"
    }
   ],
   "source": [
    "display(widgets.Text(description=\"a:\"))\n",
    "display(widgets.Text(description=\"aa:\"))\n",
    "display(widgets.Text(description=\"aaa:\"))\n",
    "display(widgets.Text(description=\"aaaaaaaaaaaaa:\"))"
   ]
  },
  {
   "cell_type": "markdown",
   "metadata": {},
   "source": [
    "Sofern kein Name vergeben ist wird auch keiner angezeigt."
   ]
  },
  {
   "cell_type": "code",
   "execution_count": 15,
   "metadata": {},
   "outputs": [
    {
     "data": {
      "application/vnd.jupyter.widget-view+json": {
       "model_id": "af8d89b244ec4e9a83153f82a929979f"
      }
     },
     "metadata": {},
     "output_type": "display_data"
    },
    {
     "data": {
      "application/vnd.jupyter.widget-view+json": {
       "model_id": "8bf4f6cde710403ab6496a4c2af11895"
      }
     },
     "metadata": {},
     "output_type": "display_data"
    },
    {
     "data": {
      "application/vnd.jupyter.widget-view+json": {
       "model_id": "fb971a3d9d9241d2b7bcb9e4a7de211a"
      }
     },
     "metadata": {},
     "output_type": "display_data"
    },
    {
     "data": {
      "application/vnd.jupyter.widget-view+json": {
       "model_id": "979b0e8da7f346e5baef229afe9245b3"
      }
     },
     "metadata": {},
     "output_type": "display_data"
    }
   ],
   "source": [
    "display(widgets.Text(description=\"a:\"))\n",
    "display(widgets.Text(description=\"aa:\"))\n",
    "display(widgets.Text(description=\"aaa:\"))\n",
    "display(widgets.Text())"
   ]
  },
  {
   "cell_type": "markdown",
   "metadata": {},
   "source": [
    "## Flex Boxen\n",
    "\n",
    "Widgets können ausgerichtet werden indem wir `FlexBox`, `HBox` und `VBox` Widgets verwenden.\n",
    "\n",
    "### Anwendung auf Widgets\n",
    "\n",
    "Widgets werden per Standard vertikal ausgegeben:"
   ]
  },
  {
   "cell_type": "code",
   "execution_count": 16,
   "metadata": {},
   "outputs": [
    {
     "data": {
      "application/vnd.jupyter.widget-view+json": {
       "model_id": "8c8f675bbead4d389aeb1356f00032d3"
      }
     },
     "metadata": {},
     "output_type": "display_data"
    },
    {
     "data": {
      "application/vnd.jupyter.widget-view+json": {
       "model_id": "9bd6f3a3c7dd47d288f56e5bafd4cf8b"
      }
     },
     "metadata": {},
     "output_type": "display_data"
    },
    {
     "data": {
      "application/vnd.jupyter.widget-view+json": {
       "model_id": "5f18f18a69064ceea80b9d3117569386"
      }
     },
     "metadata": {},
     "output_type": "display_data"
    }
   ],
   "source": [
    "buttons = [widgets.Button(description=str(i)) for i in range(3)]\n",
    "display(*buttons)"
   ]
  },
  {
   "cell_type": "markdown",
   "metadata": {},
   "source": [
    "### HBox anwenden\n",
    "\n",
    "Um Widgets hotizontal auszugeben, können sie als Kinder von einem HBox Widget angelegt werden."
   ]
  },
  {
   "cell_type": "code",
   "execution_count": 17,
   "metadata": {},
   "outputs": [
    {
     "data": {
      "application/vnd.jupyter.widget-view+json": {
       "model_id": "bddfd2334f944c6da3495fbc4914a7ce"
      }
     },
     "metadata": {},
     "output_type": "display_data"
    }
   ],
   "source": [
    "container = widgets.HBox(children=buttons)\n",
    "display(container)"
   ]
  },
  {
   "cell_type": "markdown",
   "metadata": {},
   "source": [
    "## Sichtbarkeit\n",
    "\n",
    "Die `visibile` Eigenschaft eines Widgets kann genutzt werden, um Widgets auszublenden oder anzuzeigen, die bereits erzeugt wurden. Die `visible` Eigenschaft kann folgende Werte annehmen:\n",
    "\n",
    "* True - das Widget wird angezeigt\n",
    "* False - das Widget wird ausgeblendet und ebenso der leere Platz, an dem es stehen würde\n",
    "* None - das Widget wird ausgeblendet, der leere Platz jedoch nicht"
   ]
  },
  {
   "cell_type": "code",
   "execution_count": 19,
   "metadata": {},
   "outputs": [
    {
     "data": {
      "application/vnd.jupyter.widget-view+json": {
       "model_id": "496c1cb0c8c741ae9c67c840c694fd25"
      }
     },
     "metadata": {},
     "output_type": "display_data"
    },
    {
     "data": {
      "application/vnd.jupyter.widget-view+json": {
       "model_id": "ad6d929664cd46bdb82ebdac8ef22487"
      }
     },
     "metadata": {},
     "output_type": "display_data"
    },
    {
     "data": {
      "application/vnd.jupyter.widget-view+json": {
       "model_id": "fc5548f8b07749029387e8e5df816d28"
      }
     },
     "metadata": {},
     "output_type": "display_data"
    }
   ],
   "source": [
    "w1 = widgets.Text(value=\"Erste Zeile\")\n",
    "w2 = widgets.Text(value=\"Zweite Zeile\")\n",
    "w3 = widgets.Text(value=\"Dritte Zeile\")\n",
    "display(w1, w2, w3)"
   ]
  },
  {
   "cell_type": "code",
   "execution_count": 20,
   "metadata": {
    "collapsed": true
   },
   "outputs": [],
   "source": [
    "w2.visible=None"
   ]
  },
  {
   "cell_type": "code",
   "execution_count": 21,
   "metadata": {
    "collapsed": true
   },
   "outputs": [],
   "source": [
    "w2.visible=False"
   ]
  },
  {
   "cell_type": "code",
   "execution_count": 22,
   "metadata": {
    "collapsed": true
   },
   "outputs": [],
   "source": [
    "w2.visible=True"
   ]
  },
  {
   "cell_type": "markdown",
   "metadata": {},
   "source": [
    "### Weiteres Beispiel\n",
    "\n",
    "Im untenstehenden Beispiel wird ein Formular erzeugt, das bestimmte Widgets in abhängigkeit von anderen Widgets anzeigt. Versucht die \"Student\" Check-Box umzuschalten."
   ]
  },
  {
   "cell_type": "code",
   "execution_count": 26,
   "metadata": {},
   "outputs": [
    {
     "data": {
      "application/vnd.jupyter.widget-view+json": {
       "model_id": "f222765e6325471e9cb61447df4b5948"
      }
     },
     "metadata": {},
     "output_type": "display_data"
    },
    {
     "name": "stderr",
     "output_type": "stream",
     "text": [
      "/Users/davidmika/anaconda/envs/python3/lib/python3.6/site-packages/ipykernel_launcher.py:20: DeprecationWarning: on_trait_change is deprecated in traitlets 4.1: use observe instead\n"
     ]
    }
   ],
   "source": [
    "form = widgets.VBox()\n",
    "vorname = widgets.Text(description=\"Vorname:\")\n",
    "nachname = widgets.Text(description=\"Nachname:\")\n",
    "\n",
    "student = widgets.Checkbox(description=\"Student:\", value=False)\n",
    "schul_info = widgets.VBox(visible=False, children=[\n",
    "    widgets.Text(description=\"Schule:\"),\n",
    "    widgets.IntText(description=\"Note:\", min=0, max=12)\n",
    "    ])\n",
    "\n",
    "haustier = widgets.Text(description=\"Haustier:\")\n",
    "form.children = [vorname, nachname, student, schul_info, haustier]\n",
    "display(form)\n",
    "\n",
    "def on_student_toggle(name, value):\n",
    "    if value:\n",
    "        school_info.visible = True\n",
    "    else:\n",
    "        school_info.visible = False\n",
    "student.on_trait_change(on_student_toggle, 'value')"
   ]
  },
  {
   "cell_type": "markdown",
   "metadata": {},
   "source": [
    "## Abschließende Bemerkung\n",
    "\n",
    "Jetzt solltet ihr verstanden haben, wie wir Widgets stylen können!"
   ]
  }
 ],
 "metadata": {
  "kernelspec": {
   "display_name": "Python 3",
   "language": "python",
   "name": "python3"
  },
  "language_info": {
   "codemirror_mode": {
    "name": "ipython",
    "version": 3
   },
   "file_extension": ".py",
   "mimetype": "text/x-python",
   "name": "python",
   "nbconvert_exporter": "python",
   "pygments_lexer": "ipython3",
   "version": "3.6.1"
  }
 },
 "nbformat": 4,
 "nbformat_minor": 2
}

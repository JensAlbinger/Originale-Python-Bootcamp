{
 "cells": [
  {
   "cell_type": "markdown",
   "metadata": {
    "collapsed": true
   },
   "source": [
    "# Finales Projekt\n",
    "\n",
    "Wow, ihr seid schon sehr weit gekommen! Glückwunsch!\n",
    "\n",
    "Und nach all dem, was wir bisher gelernt haben, ist es jetzt an der Zeit genauer über eure eigenen Projekte nachzudenken. Dieses Notebook bietet deshalb kein einzelnes Projekt mehr für euch.\n",
    "\n",
    "Stattdessen haben wir uns für einen anderen Ansatz entschieden: Hier werden wir fortlaufend eine Übersicht zu Python Projekten entwickeln.\n",
    "\n",
    "Erste Vorschläge findet ihr bereits hier oder über 100 weitere im englischen Original. Ihr könnt uns außerdem gern eigene Ideen per Udemy / Github oder die Datamics Seite zukommen lassen.\n",
    "\n",
    "Das englische Original [Notebook](https://github.com/jmportilla/Complete-Python-Bootcamp/blob/master/Final%20Capstone%20Projects/Projects-Solutions/Solution%20Links.md) mit über 100 englischen Aufgaben."
   ]
  },
  {
   "cell_type": "markdown",
   "metadata": {},
   "source": [
    "## Zahlen\n",
    "\n",
    "**Näherungsweise Berechnung der Quadratwurzel** - Berechnung der Quadratwurzel von a mit Hilfe der Iterationsformel - [Michael Holzapfel](http://www.michael-holzapfel.de/progs/python/python_beisp.htm)\n",
    "\n",
    "**Näherungsweise Berechnung der n-ten Wurzel** - Berechnung der n-ten Wurzel von a mit Hilfe der Iterationsformel - [Michael Holzapfel](http://www.michael-holzapfel.de/progs/python/python_beisp.htm)\n",
    "\n",
    "**Simulation Münzwurf** - Zufälliger Münzwurf in Nutzer bestimmter Häufigkeit - [Michael Holzapfel](http://www.michael-holzapfel.de/progs/python/python_beisp.htm)\n",
    "\n",
    "**Quadratische Gleichung** - Lösungen einer quadratischen Gleichung der Form  ax2 + bx + c = 0. - [Michael Holzapfel](http://www.michael-holzapfel.de/progs/python/python_beisp.htm)\n",
    "\n",
    "## Graphen\n",
    "\n",
    "**Windrad zeichnen** - Zeichnen mit Hilfe der Turtle (Schildkröte) - [Michael Holzapfel](http://www.michael-holzapfel.de/progs/python/python_beisp.htm)\n",
    "\n",
    "**Parkett zeichnen** - Zeichnen mit Hilfe der Turtle (Schildkröte) - [Michael Holzapfel](http://www.michael-holzapfel.de/progs/python/python_beisp.htm)\n",
    "\n",
    "**Wald zeichnen** - Wald aus zufällig stehenden Bäumen zeichnen mit Hilfe der Turtle (Schildkröte) - [Michael Holzapfel](http://www.michael-holzapfel.de/progs/python/python_beisp.htm)\n",
    "\n",
    "**Strauch zeichnen** - Zeichnen mit Hilfe der Turtle (Schildkröte) - [Michael Holzapfel](http://www.michael-holzapfel.de/progs/python/python_beisp.htm)\n",
    "\n",
    "**Orangenbaum zeichnen** - Zeichnen mit Hilfe der Turtle (Schildkröte) - [Michael Holzapfel](http://www.michael-holzapfel.de/progs/python/python_beisp.htm)\n",
    "\n",
    "**Hochhäuser zeichnen** - Zeichnen mit Hilfe der Turtle (Schildkröte) - [Michael Holzapfel](http://www.michael-holzapfel.de/progs/python/python_beisp.htm)"
   ]
  },
  {
   "cell_type": "code",
   "execution_count": null,
   "metadata": {
    "collapsed": true
   },
   "outputs": [],
   "source": []
  }
 ],
 "metadata": {
  "kernelspec": {
   "display_name": "Python 3",
   "language": "python",
   "name": "python3"
  },
  "language_info": {
   "codemirror_mode": {
    "name": "ipython",
    "version": 3
   },
   "file_extension": ".py",
   "mimetype": "text/x-python",
   "name": "python",
   "nbconvert_exporter": "python",
   "pygments_lexer": "ipython3",
   "version": "3.6.1"
  }
 },
 "nbformat": 4,
 "nbformat_minor": 2
}

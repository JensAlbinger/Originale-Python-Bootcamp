{
 "cells": [
  {
   "cell_type": "markdown",
   "metadata": {
    "collapsed": true
   },
   "source": [
    "# Dateien\n",
    "\n",
    "Python nutzt Datei Objekte um mit externen Dateien auf deinem Computer zu interagieren. Diese Datei Objekte können jegliche Sorte von Datei sein, die du auf deinem Computer hast, von Audio-, über Text- und E-Mail-Daten bis hin zu Excel Dokumenten usw. Dabei gilt es zu beachten, dass wahrscheinlich einige Libraries oder Module installiert werden müssen, um mit den verschiedenen Dateitypen zu interagieren. Dises sind simpel zu erhalten (wir werden den Download von Modulen später behandeln). \n",
    "\n",
    "Python bietet eine vorinstallierte Öffnen Funktion, die es uns erlaubt mit grundlegenden Datei Typen zu arbeiten. Als erstes brauchen wir jedoch eine Datei. Wir werden iPython Magie nutzen, um eine Text Datei zu erstellen.\n",
    "\n",
    "## iPython Datei Erstellung"
   ]
  },
  {
   "cell_type": "code",
   "execution_count": 31,
   "metadata": {},
   "outputs": [
    {
     "name": "stdout",
     "output_type": "stream",
     "text": [
      "Writing neu.txt\n"
     ]
    }
   ],
   "source": [
    "%%writefile neu.txt\n",
    "Hallo, das ist eine kurze Testdatei"
   ]
  },
  {
   "cell_type": "markdown",
   "metadata": {},
   "source": [
    "## Python öffnet eine Datei\n",
    "\n",
    "Wir können eine Datei mit der open() Funktion öffnen. Die open Funktion hat Parameter als Input. Lasst uns anschauen, wie es funktioniert:"
   ]
  },
  {
   "cell_type": "code",
   "execution_count": 32,
   "metadata": {
    "collapsed": true
   },
   "outputs": [],
   "source": [
    "# Die text.txt Datei öffnen, die wir gerade erstellt haben\n",
    "my_file = open('neu.txt')"
   ]
  },
  {
   "cell_type": "code",
   "execution_count": 33,
   "metadata": {},
   "outputs": [
    {
     "data": {
      "text/plain": [
       "'Hallo, das ist eine kurze Testdatei'"
      ]
     },
     "execution_count": 33,
     "metadata": {},
     "output_type": "execute_result"
    }
   ],
   "source": [
    "# Jetzt können wir den Inhalt der Datei lesen\n",
    "my_file.read()"
   ]
  },
  {
   "cell_type": "code",
   "execution_count": 34,
   "metadata": {},
   "outputs": [
    {
     "data": {
      "text/plain": [
       "''"
      ]
     },
     "execution_count": 34,
     "metadata": {},
     "output_type": "execute_result"
    }
   ],
   "source": [
    "# Was passiert aber, wenn wir erneut lesen wollen?\n",
    "my_file.read()"
   ]
  },
  {
   "cell_type": "markdown",
   "metadata": {},
   "source": [
    "Das passiert, weil man sich Python beim Lesen als Cursor vorstellen kann, der bis zum Ende der Datei geht. Dort bleibt er stehen und befindet sich nach dem ersten read Befehl. Es gibt also nichts mehr zu lesen. Wir könen den Cursor folgendermaßen zurücksetzen:"
   ]
  },
  {
   "cell_type": "code",
   "execution_count": 35,
   "metadata": {},
   "outputs": [
    {
     "data": {
      "text/plain": [
       "0"
      ]
     },
     "execution_count": 35,
     "metadata": {},
     "output_type": "execute_result"
    }
   ],
   "source": [
    "# Den Anfang der Datein (Index 0) suchen\n",
    "my_file.seek(0)"
   ]
  },
  {
   "cell_type": "code",
   "execution_count": 36,
   "metadata": {},
   "outputs": [
    {
     "data": {
      "text/plain": [
       "'Hallo, das ist eine kurze Testdatei'"
      ]
     },
     "execution_count": 36,
     "metadata": {},
     "output_type": "execute_result"
    }
   ],
   "source": [
    "my_file.read()"
   ]
  },
  {
   "cell_type": "markdown",
   "metadata": {},
   "source": [
    "Um nicht immer wieder zum Anfang zu müssen können wir auch die readlines Funktion nutzen. Bei großen Dateien sollte man Vorsicht walten lassen, da alles im Speicher gehalten wird. Wie man mit großen Dateien umgehen kann schauen wir uns später im Kurs an."
   ]
  },
  {
   "cell_type": "code",
   "execution_count": 37,
   "metadata": {},
   "outputs": [
    {
     "data": {
      "text/plain": [
       "[]"
      ]
     },
     "execution_count": 37,
     "metadata": {},
     "output_type": "execute_result"
    }
   ],
   "source": [
    "# readlines() gibt eine Liste aller Zeilen in der Datei zurück\n",
    "my_file.readlines()"
   ]
  },
  {
   "cell_type": "markdown",
   "metadata": {},
   "source": [
    "## In eine Datei schreiben\n",
    "\n",
    "Per Standard erlaubt uns die open Funktion nur, Dateien zu lesen. Wir müssen den Parameter 'w' übergeben, um Inhalte überschreiben zu können. Zum Beispiel:"
   ]
  },
  {
   "cell_type": "code",
   "execution_count": 38,
   "metadata": {
    "collapsed": true
   },
   "outputs": [],
   "source": [
    "# Wir fügen einen zweiten Parameter 'w' hinzu, der für Schreiben (write) steht\n",
    "my_file = open('neu.txt','w')"
   ]
  },
  {
   "cell_type": "code",
   "execution_count": 39,
   "metadata": {},
   "outputs": [
    {
     "data": {
      "text/plain": [
       "23"
      ]
     },
     "execution_count": 39,
     "metadata": {},
     "output_type": "execute_result"
    }
   ],
   "source": [
    "# In die Datei schreiben\n",
    "my_file.write('Das ist eine neue Zeile')"
   ]
  },
  {
   "cell_type": "code",
   "execution_count": 40,
   "metadata": {},
   "outputs": [
    {
     "data": {
      "text/plain": [
       "'Das ist eine neue Zeile'"
      ]
     },
     "execution_count": 40,
     "metadata": {},
     "output_type": "execute_result"
    }
   ],
   "source": [
    "# Die Datei lesen\n",
    "my_file = open('neu.txt', 'r')\n",
    "my_file.read()"
   ]
  },
  {
   "cell_type": "markdown",
   "metadata": {},
   "source": [
    "## Iterationen in einer Datei\n",
    "\n",
    "Es folgte eine kurze Vorschau eines for loop, mit dem wir Iterationen in einer Datei ausführen. Zunächst erstellen wir mit iPython eine neue Datei:"
   ]
  },
  {
   "cell_type": "code",
   "execution_count": 41,
   "metadata": {},
   "outputs": [
    {
     "name": "stdout",
     "output_type": "stream",
     "text": [
      "Overwriting neu.txt\n"
     ]
    }
   ],
   "source": [
    "%%writefile neu.txt\n",
    "Erste Zeile\n",
    "Zweite Zeile"
   ]
  },
  {
   "cell_type": "markdown",
   "metadata": {},
   "source": [
    "Jetzt können wir unserem Programm sagen, durch jede Zeile der Datei zu gehen und etwas zu tun:"
   ]
  },
  {
   "cell_type": "code",
   "execution_count": 42,
   "metadata": {},
   "outputs": [
    {
     "name": "stdout",
     "output_type": "stream",
     "text": [
      "Erste Zeile\n",
      "\n",
      "Zweite Zeile\n"
     ]
    }
   ],
   "source": [
    "for zeile in open('neu.txt'):\n",
    "    print(zeile)"
   ]
  },
  {
   "cell_type": "markdown",
   "metadata": {},
   "source": [
    "Keine Sorgen darüber bereits alles hiervon komplett zu verstehen. For loops werden bald behandelt. Aber wir können schon einmal beleuchten, was wir oben gemacht haben. Wir haben programmiert für jede Zeile der Datei die Zeile auszugeben. Wichtige Punkte hierbei sind:\n",
    "\n",
    "1. Wir hätten 'zeile' jegliche Bezeichnungen geben können (siehe nächstes Beispiel).\n",
    "2. Da wir nicht .read() ausgeführt haben, wurde die Datei nicht in den Speicher geladen.\n",
    "3. Achtet auf die Einrückung der zweiten Zeile Code. Das ist in Python notwendig.\n",
    "\n",
    "Wir werden später mehr darüber lernen. Als nächstes kommen: Sets und Booleans!"
   ]
  },
  {
   "cell_type": "code",
   "execution_count": 43,
   "metadata": {},
   "outputs": [
    {
     "name": "stdout",
     "output_type": "stream",
     "text": [
      "Erste Zeile\n",
      "\n",
      "Zweite Zeile\n"
     ]
    }
   ],
   "source": [
    "for esz7 in open('neu.txt'):\n",
    "        print(esz7)"
   ]
  }
 ],
 "metadata": {
  "kernelspec": {
   "display_name": "Python 3",
   "language": "python",
   "name": "python3"
  },
  "language_info": {
   "codemirror_mode": {
    "name": "ipython",
    "version": 3
   },
   "file_extension": ".py",
   "mimetype": "text/x-python",
   "name": "python",
   "nbconvert_exporter": "python",
   "pygments_lexer": "ipython3",
   "version": "3.6.1"
  }
 },
 "nbformat": 4,
 "nbformat_minor": 2
}

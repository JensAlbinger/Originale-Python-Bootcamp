{
 "cells": [
  {
   "cell_type": "markdown",
   "metadata": {
    "collapsed": true
   },
   "source": [
    "# Funktionen und Methoden Assessment - Aufgaben\n",
    "\n",
    "Vervollständigt die folgenden Aufgaben:\n",
    "\n",
    "____\n",
    "**Schreibe eine Funktion, die das Volumen einer Kugel berechnet, wenn der Radius gegeben ist.**"
   ]
  },
  {
   "cell_type": "code",
   "execution_count": 1,
   "metadata": {},
   "outputs": [],
   "source": [
    "def vol(rad):\n",
    "    pass"
   ]
  },
  {
   "cell_type": "code",
   "execution_count": 2,
   "metadata": {},
   "outputs": [
    {
     "data": {
      "text/plain": [
       "4186.666666666667"
      ]
     },
     "execution_count": 2,
     "metadata": {},
     "output_type": "execute_result"
    }
   ],
   "source": [
    "vol(10)"
   ]
  },
  {
   "cell_type": "markdown",
   "metadata": {},
   "source": [
    "____\n",
    "**Schreibe eine Funktion, die überprüft, ob sich eine Zahl in einem bestimmten Bereich (range) befindet.**"
   ]
  },
  {
   "cell_type": "code",
   "execution_count": 3,
   "metadata": {},
   "outputs": [],
   "source": [
    "def  bereich_check(zahl,unten,oben):\n",
    "    pass"
   ]
  },
  {
   "cell_type": "markdown",
   "metadata": {},
   "source": [
    "Und jetzt das gleiche, wenn du nur einen Boolean Wert erhalten wollen würdest."
   ]
  },
  {
   "cell_type": "code",
   "execution_count": 4,
   "metadata": {},
   "outputs": [],
   "source": [
    "def bereich_boolean(zahl,unten,oben):\n",
    "    pass"
   ]
  },
  {
   "cell_type": "code",
   "execution_count": 5,
   "metadata": {},
   "outputs": [
    {
     "data": {
      "text/plain": [
       "True"
      ]
     },
     "execution_count": 5,
     "metadata": {},
     "output_type": "execute_result"
    }
   ],
   "source": [
    "bereich_boolean(3,1,10)"
   ]
  },
  {
   "cell_type": "markdown",
   "metadata": {},
   "source": [
    "____\n",
    "**Schreibe eine Python Funktion, die die groß- und kleingeschriebene Buchstaben in einem String zählt und ausgibt.**\n",
    "\n",
    "    Beispiel String : 'Hallo Herr Schmidt, wie geht es Ihnen an diesem schönen Dienstag?'\n",
    "    Erwartete Ausgabe : \n",
    "    Anzahl großer Buchstaben : 5\n",
    "    Anzahl kleiner Buchstaben : 48\n",
    "\n",
    "Falls die Aufgabe zu leicht ist, kannst Du dir gerne noch das 'Collections' Modul anschauen!"
   ]
  },
  {
   "cell_type": "code",
   "execution_count": 6,
   "metadata": {},
   "outputs": [],
   "source": [
    "def gross_klein(s):\n",
    "    pass"
   ]
  },
  {
   "cell_type": "code",
   "execution_count": 7,
   "metadata": {},
   "outputs": [
    {
     "name": "stdout",
     "output_type": "stream",
     "text": [
      "Original String:  Hallo Herr Schmidt, wie geht es Ihnen an diesem schönen Dienstag?\n",
      "Anzahl großer Buchstaben:  5\n",
      "Anzahl kleiner Buchstaben:  48\n"
     ]
    }
   ],
   "source": [
    "s = 'Hallo Herr Schmidt, wie geht es Ihnen an diesem schönen Dienstag?'\n",
    "gross_klein(s)"
   ]
  },
  {
   "cell_type": "markdown",
   "metadata": {},
   "source": [
    "____\n",
    "**Schreibe eine Python Funktion, die eine Liste als Input nimmt und eine weitere Liste ausgibt, die nur noch einzigartige Werte enthält.**\n",
    "\n",
    "    Liste mit Beispiel Werte: [1,1,1,1,2,2,3,3,3,3,4,5]\n",
    "    Liste mit einzigartigen Werte: [1, 2, 3, 4, 5]"
   ]
  },
  {
   "cell_type": "code",
   "execution_count": 8,
   "metadata": {},
   "outputs": [],
   "source": [
    "def einzig_liste(l):\n",
    "    pass"
   ]
  },
  {
   "cell_type": "code",
   "execution_count": 9,
   "metadata": {},
   "outputs": [
    {
     "data": {
      "text/plain": [
       "[1, 2, 3, 4, 5]"
      ]
     },
     "execution_count": 9,
     "metadata": {},
     "output_type": "execute_result"
    }
   ],
   "source": [
    "einzig_liste([1,1,1,1,2,2,3,3,3,3,4,5])"
   ]
  },
  {
   "cell_type": "markdown",
   "metadata": {},
   "source": [
    "____\n",
    "**Schreibe eine Funktion, die alle Werte innerhalb einer Liste multipliziert.**\n",
    "\n",
    "    Liste mit Beispielwerten : [1, 2, 3, -4]\n",
    "    Erwartete Ausgabe : -24"
   ]
  },
  {
   "cell_type": "code",
   "execution_count": 10,
   "metadata": {},
   "outputs": [],
   "source": [
    "def multi(zahlen):\n",
    "    pass"
   ]
  },
  {
   "cell_type": "code",
   "execution_count": 11,
   "metadata": {},
   "outputs": [
    {
     "data": {
      "text/plain": [
       "-24"
      ]
     },
     "execution_count": 11,
     "metadata": {},
     "output_type": "execute_result"
    }
   ],
   "source": [
    "multi([1,2,3,-4])"
   ]
  },
  {
   "cell_type": "markdown",
   "metadata": {},
   "source": [
    "____\n",
    "**Schreibe eine Python Funktion, die überprüft, ob ein eingegebener String ein Palindrom ist, oder nicht.**\n",
    "\n",
    "Hinweis: Ein Palindrom ist ein Wort, das vorwärts und rückwärts gleich gelesen wird. Zum Beispiel: Otto, neben."
   ]
  },
  {
   "cell_type": "code",
   "execution_count": 12,
   "metadata": {},
   "outputs": [],
   "source": [
    "def palindrom(s):\n",
    "    pass"
   ]
  },
  {
   "cell_type": "code",
   "execution_count": 13,
   "metadata": {},
   "outputs": [
    {
     "data": {
      "text/plain": [
       "True"
      ]
     },
     "execution_count": 13,
     "metadata": {},
     "output_type": "execute_result"
    }
   ],
   "source": [
    "palindrom('Otto')"
   ]
  },
  {
   "cell_type": "code",
   "execution_count": 14,
   "metadata": {},
   "outputs": [
    {
     "data": {
      "text/plain": [
       "True"
      ]
     },
     "execution_count": 14,
     "metadata": {},
     "output_type": "execute_result"
    }
   ],
   "source": [
    "palindrom('neben')"
   ]
  },
  {
   "cell_type": "markdown",
   "metadata": {},
   "source": [
    "____\n",
    "#### Schwer:\n",
    "\n",
    "**Schreibe eine Funktion, die überprüft, ob ein Satz ein Pangramm ist.**\n",
    "\n",
    "Hinweis: Ein Pangramm ist ein Satz, der jeden Buchstaben des Alphabets enthält.\n",
    "\n",
    "Hinweis: Schaut euch das String Modul an\n",
    "\n",
    "    Beispiel: \"Franz jagt im komplett verwahrlosten Taxi quer durch Bayern\"\n",
    "    "
   ]
  },
  {
   "cell_type": "code",
   "execution_count": 15,
   "metadata": {},
   "outputs": [],
   "source": [
    "import string\n",
    "\n",
    "def pangramm(s, alphabet=string.ascii_lowercase):\n",
    "    pass"
   ]
  },
  {
   "cell_type": "code",
   "execution_count": 16,
   "metadata": {},
   "outputs": [
    {
     "data": {
      "text/plain": [
       "True"
      ]
     },
     "execution_count": 16,
     "metadata": {},
     "output_type": "execute_result"
    }
   ],
   "source": [
    "pangramm(\"Franz jagt im komplett verwahrlosten Taxi quer durch Bayern\")"
   ]
  },
  {
   "cell_type": "code",
   "execution_count": 17,
   "metadata": {},
   "outputs": [
    {
     "data": {
      "text/plain": [
       "'abcdefghijklmnopqrstuvwxyz'"
      ]
     },
     "execution_count": 17,
     "metadata": {},
     "output_type": "execute_result"
    }
   ],
   "source": [
    "string.ascii_lowercase"
   ]
  },
  {
   "cell_type": "markdown",
   "metadata": {},
   "source": [
    "Wer möchte kann das Pangramm auch noch mit Umlauten erweitern (z.B. *„Zwölf Boxkämpfer jagen Viktor quer über den großen Sylter Deich“*)."
   ]
  },
  {
   "cell_type": "markdown",
   "metadata": {},
   "source": [
    "## Gute Arbeit!"
   ]
  }
 ],
 "metadata": {
  "kernelspec": {
   "display_name": "Python 3",
   "language": "python",
   "name": "python3"
  },
  "language_info": {
   "codemirror_mode": {
    "name": "ipython",
    "version": 3
   },
   "file_extension": ".py",
   "mimetype": "text/x-python",
   "name": "python",
   "nbconvert_exporter": "python",
   "pygments_lexer": "ipython3",
   "version": "3.6.3"
  }
 },
 "nbformat": 4,
 "nbformat_minor": 2
}

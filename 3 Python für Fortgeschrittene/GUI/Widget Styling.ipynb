{
 "cells": [
  {
   "cell_type": "markdown",
   "metadata": {
    "collapsed": true
   },
   "source": [
    "# Widget Styling\n",
    "\n",
    "In dieser Lektion werden wir mehr darüber lernen, wie wir die vielen Möglichkeiten anwenden können, um Widgets zu stylen!"
   ]
  },
  {
   "cell_type": "code",
   "execution_count": 1,
   "metadata": {},
   "outputs": [
    {
     "data": {
      "text/html": [
       "<style>\n",
       ".example-container { background: #999999; padding: 2px; min-height: 100px; }\n",
       ".example-container.sm { min-height: 50px; }\n",
       ".example-box { background: #9999FF; width: 50px; height: 50px; text-align: center; vertical-align: middle; color: white; font-weight: bold; margin: 2px;}\n",
       ".example-box.med { width: 65px; height: 65px; }   \n",
       ".example-box.lrg { width: 80px; height: 80px; }   \n",
       "</style>"
      ],
      "text/plain": [
       "<IPython.core.display.HTML object>"
      ]
     },
     "metadata": {},
     "output_type": "display_data"
    }
   ],
   "source": [
    "%%html\n",
    "<style>\n",
    ".example-container { background: #999999; padding: 2px; min-height: 100px; }\n",
    ".example-container.sm { min-height: 50px; }\n",
    ".example-box { background: #9999FF; width: 50px; height: 50px; text-align: center; vertical-align: middle; color: white; font-weight: bold; margin: 2px;}\n",
    ".example-box.med { width: 65px; height: 65px; }   \n",
    ".example-box.lrg { width: 80px; height: 80px; }   \n",
    "</style>"
   ]
  },
  {
   "cell_type": "code",
   "execution_count": 2,
   "metadata": {
    "collapsed": true
   },
   "outputs": [],
   "source": [
    "import ipywidgets as widgets\n",
    "from IPython.display import display"
   ]
  },
  {
   "cell_type": "markdown",
   "metadata": {},
   "source": [
    "## Grundlegendes Styling\n",
    "\n",
    "Die Buttons, die wir durch iPython erzeugen, können durch folgende Eigenschaften angepasst werden:\n",
    "\n",
    "* 'primary'\n",
    "* 'success'\n",
    "* 'info'\n",
    "* 'warning'\n",
    "* 'danger'\n",
    "\n",
    "Das folgende Beispiel zeigt, wie ein Button Widget gestylt werden kann:"
   ]
  },
  {
   "cell_type": "code",
   "execution_count": 26,
   "metadata": {},
   "outputs": [
    {
     "data": {
      "application/vnd.jupyter.widget-view+json": {
       "model_id": "cff6914b135c499e8cc6c20095636c8d"
      }
     },
     "metadata": {},
     "output_type": "display_data"
    }
   ],
   "source": [
    "button = widgets.Button(\n",
    "    description='Hallo Welt!',\n",
    "    button_style='info')\n",
    "display(button)"
   ]
  },
  {
   "cell_type": "markdown",
   "metadata": {},
   "source": [
    "## Eltern/Kind Beziehungen\n",
    "\n",
    "Um ein Widget A innerhalb eines Widgets B anzuzeigen, muss Widget A ein Kind (child) von Widget B (parent) sein. Widgets, die andere Widgets beinhalten können, besitzen das `children` Attribut. Dieses Attribut kann durch einen Stichwort Parameter bei der Erstellung eines Widgets angegeben werden. Alternativ nach der Erstellung. Wenn wir display() auf ein Widget anwenden, dass ein Kind hat, wird dieses Kind automatisch auch angezeigt."
   ]
  },
  {
   "cell_type": "code",
   "execution_count": 4,
   "metadata": {},
   "outputs": [
    {
     "data": {
      "application/vnd.jupyter.widget-view+json": {
       "model_id": "ca7dc45fa196438aa5590727768b1744"
      }
     },
     "metadata": {},
     "output_type": "display_data"
    }
   ],
   "source": [
    "float_range = widgets.FloatSlider()\n",
    "string = widgets.Text(value='Hi')\n",
    "container = widgets.Box(children=[float_range, string])\n",
    "\n",
    "container.border_color = 'red'\n",
    "container.border_style = 'dotted'\n",
    "container.border_width = 3\n",
    "display(container) # Zeigt den Behälter an und alle seine \"Kinder\""
   ]
  },
  {
   "cell_type": "markdown",
   "metadata": {},
   "source": [
    "### Nachdem das Eltern Widget angezeigt wurde\n",
    "\n",
    "Kinder können auch hinzugefügt werden, nachdem das Eltern Widget angezeigt wurde. Das Eltern Element ist dafür verantwortlich, seine Kinder auszuspielen."
   ]
  },
  {
   "cell_type": "code",
   "execution_count": 5,
   "metadata": {},
   "outputs": [
    {
     "data": {
      "application/vnd.jupyter.widget-view+json": {
       "model_id": "38e7f71dc02249cd931d485d3c78b8d3"
      }
     },
     "metadata": {},
     "output_type": "display_data"
    }
   ],
   "source": [
    "container = widgets.Box()\n",
    "container.border_color = 'red'\n",
    "container.border_style = 'dotted'\n",
    "container.border_width = 3\n",
    "display(container)\n",
    "\n",
    "int_range = widgets.IntSlider()\n",
    "container.children=[int_range]"
   ]
  },
  {
   "cell_type": "markdown",
   "metadata": {},
   "source": [
    "## Besondere Boxen\n",
    "\n",
    "Wenn wir eine etwas kompliziertere Kombination von Widgets anzeigen möchten, können wir spezielle Behälter dafür benutzen. Um mehrere Widgets anzuzeigen, können wir `Accordion` oder `Tab` in Kombination mit einer Box benutzen (wie ihr unten sehen könnt). Die \"Seiten\" dieser Widgets sind ihre Kinder. Um den Titel der Seiten festzulegen nutzen wir `set_title`.\n",
    "\n",
    "### Accordion"
   ]
  },
  {
   "cell_type": "code",
   "execution_count": 6,
   "metadata": {},
   "outputs": [
    {
     "data": {
      "application/vnd.jupyter.widget-view+json": {
       "model_id": "67fb2e58561143a6b2adaf5ebf3dbe02"
      }
     },
     "metadata": {},
     "output_type": "display_data"
    }
   ],
   "source": [
    "name1 = widgets.Text(description='Position:')\n",
    "zip1 = widgets.BoundedIntText(description='Zip:', min=0, max=99999)\n",
    "seite1 = widgets.Box(children=[name1, zip1])\n",
    "\n",
    "name2 = widgets.Text(description='Position:')\n",
    "zip2 = widgets.BoundedIntText(description='Zip:', min=0, max=99999)\n",
    "seite2 = widgets.Box(children=[name2, zip2])\n",
    "\n",
    "accord = widgets.Accordion(children=[seite1, seite2], width=400)\n",
    "display(accord)\n",
    "\n",
    "accord.set_title(0, 'Von')\n",
    "accord.set_title(1, 'Nach')"
   ]
  },
  {
   "cell_type": "markdown",
   "metadata": {},
   "source": [
    "### TabWidget"
   ]
  },
  {
   "cell_type": "code",
   "execution_count": 7,
   "metadata": {},
   "outputs": [
    {
     "data": {
      "application/vnd.jupyter.widget-view+json": {
       "model_id": "c1590ea6baa5445faeb739a662b16968"
      }
     },
     "metadata": {},
     "output_type": "display_data"
    }
   ],
   "source": [
    "name = widgets.Text(description='Name:', padding=4)\n",
    "farbe = widgets.Dropdown(description='Farbe:', padding=4, options=['rot', 'orange', 'gelb', 'grün', 'blau', 'indigo', 'violet'])\n",
    "seite1 = widgets.Box(children=[name, farbe], padding=4)\n",
    "\n",
    "alter = widgets.IntSlider(description='Alter:', padding=4, min=0, max=120, value=50)\n",
    "geschlecht = widgets.RadioButtons(description='Geschlecht:', padding=4, options=['männlich', 'weiblich'])\n",
    "seite2 = widgets.Box(children=[alter, geschlecht], padding=4)\n",
    "\n",
    "tabs = widgets.Tab(children=[seite1, seite2])\n",
    "display(tabs)\n",
    "\n",
    "tabs.set_title(0, 'Name')\n",
    "tabs.set_title(1, 'Details')"
   ]
  },
  {
   "cell_type": "markdown",
   "metadata": {},
   "source": [
    "## Ausrichtung\n",
    "\n",
    "Die meisten Widgets haben ein `description` (dt.: Beschreibung) Attribut. Dieses erlaubt uns, einen Namen zu vergeben. Der Name des Widgets hat eine fixierte Mindestbreite. Der Text des Namens ist immer rechts ausgerichtet und das Widget links."
   ]
  },
  {
   "cell_type": "code",
   "execution_count": 8,
   "metadata": {},
   "outputs": [
    {
     "data": {
      "application/vnd.jupyter.widget-view+json": {
       "model_id": "41dfc4528a1142acac315670c0283893"
      }
     },
     "metadata": {},
     "output_type": "display_data"
    },
    {
     "data": {
      "application/vnd.jupyter.widget-view+json": {
       "model_id": "7503bb39ee544e88aa9b2e9ad1eec086"
      }
     },
     "metadata": {},
     "output_type": "display_data"
    },
    {
     "data": {
      "application/vnd.jupyter.widget-view+json": {
       "model_id": "1a0e50d216a645f095448e3d8adf1d97"
      }
     },
     "metadata": {},
     "output_type": "display_data"
    }
   ],
   "source": [
    "display(widgets.Text(description=\"a:\"))\n",
    "display(widgets.Text(description=\"aa:\"))\n",
    "display(widgets.Text(description=\"aaa:\"))"
   ]
  },
  {
   "cell_type": "markdown",
   "metadata": {},
   "source": [
    "Sollte der Name des Widgets länger als die Mindestbreite sein, wird das Widget nach rechts verschoben:"
   ]
  },
  {
   "cell_type": "code",
   "execution_count": 9,
   "metadata": {},
   "outputs": [
    {
     "data": {
      "application/vnd.jupyter.widget-view+json": {
       "model_id": "2940689053f4498da445dc04a6896b93"
      }
     },
     "metadata": {},
     "output_type": "display_data"
    },
    {
     "data": {
      "application/vnd.jupyter.widget-view+json": {
       "model_id": "9e2396ed36764359b375af5b5d2afc23"
      }
     },
     "metadata": {},
     "output_type": "display_data"
    },
    {
     "data": {
      "application/vnd.jupyter.widget-view+json": {
       "model_id": "df235ee85dd8434d92646471c3e56c3b"
      }
     },
     "metadata": {},
     "output_type": "display_data"
    },
    {
     "data": {
      "application/vnd.jupyter.widget-view+json": {
       "model_id": "8e76ecb7c89044ea89d2a36806c5a8c6"
      }
     },
     "metadata": {},
     "output_type": "display_data"
    }
   ],
   "source": [
    "display(widgets.Text(description=\"a:\"))\n",
    "display(widgets.Text(description=\"aa:\"))\n",
    "display(widgets.Text(description=\"aaa:\"))\n",
    "display(widgets.Text(description=\"aaaaaaaaaaaaa:\"))"
   ]
  },
  {
   "cell_type": "markdown",
   "metadata": {},
   "source": [
    "Sofern kein Name vergeben ist wird auch keiner angezeigt."
   ]
  },
  {
   "cell_type": "code",
   "execution_count": 10,
   "metadata": {},
   "outputs": [
    {
     "data": {
      "application/vnd.jupyter.widget-view+json": {
       "model_id": "03fc7fada5d24efebaeb441e960fa357"
      }
     },
     "metadata": {},
     "output_type": "display_data"
    },
    {
     "data": {
      "application/vnd.jupyter.widget-view+json": {
       "model_id": "3a39de69705d4435bcf55b0519ae0f1a"
      }
     },
     "metadata": {},
     "output_type": "display_data"
    },
    {
     "data": {
      "application/vnd.jupyter.widget-view+json": {
       "model_id": "8df32d13ba84498faf4eab9ab04ddecf"
      }
     },
     "metadata": {},
     "output_type": "display_data"
    },
    {
     "data": {
      "application/vnd.jupyter.widget-view+json": {
       "model_id": "06a6110852014b17aab75c2e2bd19bcd"
      }
     },
     "metadata": {},
     "output_type": "display_data"
    }
   ],
   "source": [
    "display(widgets.Text(description=\"a:\"))\n",
    "display(widgets.Text(description=\"aa:\"))\n",
    "display(widgets.Text(description=\"aaa:\"))\n",
    "display(widgets.Text())"
   ]
  },
  {
   "cell_type": "markdown",
   "metadata": {},
   "source": [
    "## Flex Boxen\n",
    "\n",
    "Widgets können ausgerichtet werden indem wir `FlexBox`, `HBox` und `VBox` Widgets verwenden.\n",
    "\n",
    "### Anwendung auf Widgets\n",
    "\n",
    "Widgets werden per Standard vertikal ausgegeben:"
   ]
  },
  {
   "cell_type": "code",
   "execution_count": 11,
   "metadata": {},
   "outputs": [
    {
     "data": {
      "application/vnd.jupyter.widget-view+json": {
       "model_id": "846d1eeebb4546fe9f67773ebc344459"
      }
     },
     "metadata": {},
     "output_type": "display_data"
    },
    {
     "data": {
      "application/vnd.jupyter.widget-view+json": {
       "model_id": "96fe66f771144c949654aea3436c318a"
      }
     },
     "metadata": {},
     "output_type": "display_data"
    },
    {
     "data": {
      "application/vnd.jupyter.widget-view+json": {
       "model_id": "17b0fe72177b479a985d13cf1b8c49d8"
      }
     },
     "metadata": {},
     "output_type": "display_data"
    }
   ],
   "source": [
    "buttons = [widgets.Button(description=str(i)) for i in range(3)]\n",
    "display(*buttons)"
   ]
  },
  {
   "cell_type": "markdown",
   "metadata": {},
   "source": [
    "### HBox anwenden\n",
    "\n",
    "Um Widgets horizontal auszugeben, können sie als Kinder von einem HBox Widget angelegt werden."
   ]
  },
  {
   "cell_type": "code",
   "execution_count": 12,
   "metadata": {},
   "outputs": [
    {
     "data": {
      "application/vnd.jupyter.widget-view+json": {
       "model_id": "f32d32e4957246709f9da4629daddadf"
      }
     },
     "metadata": {},
     "output_type": "display_data"
    }
   ],
   "source": [
    "container = widgets.HBox(children=buttons)\n",
    "display(container)"
   ]
  },
  {
   "cell_type": "markdown",
   "metadata": {},
   "source": [
    "## Sichtbarkeit\n",
    "\n",
    "Die `visibile` Eigenschaft eines Widgets kann genutzt werden, um Widgets auszublenden oder anzuzeigen, die bereits erzeugt wurden. Die `visible` Eigenschaft kann folgende Werte annehmen:\n",
    "\n",
    "* True - das Widget wird angezeigt\n",
    "* False - das Widget wird ausgeblendet und ebenso der leere Platz, an dem es stehen würde\n",
    "* None - das Widget wird ausgeblendet, der leere Platz jedoch nicht"
   ]
  },
  {
   "cell_type": "code",
   "execution_count": 13,
   "metadata": {},
   "outputs": [
    {
     "data": {
      "application/vnd.jupyter.widget-view+json": {
       "model_id": "409c8d6ed7c246a2abd61642bb04af3b"
      }
     },
     "metadata": {},
     "output_type": "display_data"
    },
    {
     "data": {
      "application/vnd.jupyter.widget-view+json": {
       "model_id": "3fbcbcaa39c048d7a1f39ab86e0c547e"
      }
     },
     "metadata": {},
     "output_type": "display_data"
    },
    {
     "data": {
      "application/vnd.jupyter.widget-view+json": {
       "model_id": "20ee74c1022349b5bd7815b306727f73"
      }
     },
     "metadata": {},
     "output_type": "display_data"
    }
   ],
   "source": [
    "w1 = widgets.Text(value=\"Erste Zeile\")\n",
    "w2 = widgets.Text(value=\"Zweite Zeile\")\n",
    "w3 = widgets.Text(value=\"Dritte Zeile\")\n",
    "display(w1, w2, w3)"
   ]
  },
  {
   "cell_type": "code",
   "execution_count": 14,
   "metadata": {
    "collapsed": true
   },
   "outputs": [],
   "source": [
    "w2.visible=None"
   ]
  },
  {
   "cell_type": "code",
   "execution_count": 15,
   "metadata": {
    "collapsed": true
   },
   "outputs": [],
   "source": [
    "w2.visible=False"
   ]
  },
  {
   "cell_type": "code",
   "execution_count": 16,
   "metadata": {
    "collapsed": true
   },
   "outputs": [],
   "source": [
    "w2.visible=True"
   ]
  },
  {
   "cell_type": "markdown",
   "metadata": {},
   "source": [
    "### Weiteres Beispiel\n",
    "\n",
    "Im untenstehenden Beispiel wird ein Formular erzeugt, das bestimmte Widgets in Abhängigkeit von anderen Widgets anzeigt. Versucht die \"Student\" Check-Box umzuschalten."
   ]
  },
  {
   "cell_type": "code",
   "execution_count": 18,
   "metadata": {},
   "outputs": [
    {
     "data": {
      "application/vnd.jupyter.widget-view+json": {
       "model_id": "e9346585914444c692abd5a1f0d5d31c"
      }
     },
     "metadata": {},
     "output_type": "display_data"
    }
   ],
   "source": [
    "form = widgets.VBox()\n",
    "vorname = widgets.Text(description=\"Vorname:\")\n",
    "nachname = widgets.Text(description=\"Nachname:\")\n",
    "\n",
    "student = widgets.Checkbox(description=\"Student:\", value=False)\n",
    "schul_info = widgets.VBox(visible=False, children=[\n",
    "    widgets.Text(description=\"Schule:\"),\n",
    "    widgets.IntText(description=\"Note:\", min=0, max=12)\n",
    "    ])\n",
    "\n",
    "haustier = widgets.Text(description=\"Haustier:\")\n",
    "form.children = [vorname, nachname, student, schul_info, haustier]\n",
    "display(form)\n",
    "\n",
    "def on_student_toggle(name, value):\n",
    "    if value:\n",
    "        school_info.visible = True\n",
    "    else:\n",
    "        school_info.visible = False\n",
    "student.observe(on_student_toggle, 'value')"
   ]
  },
  {
   "cell_type": "markdown",
   "metadata": {},
   "source": [
    "## Abschließende Bemerkung\n",
    "\n",
    "Jetzt solltet ihr verstanden haben, wie wir Widgets stylen können!"
   ]
  },
  {
   "cell_type": "code",
   "execution_count": null,
   "metadata": {
    "collapsed": true
   },
   "outputs": [],
   "source": []
  }
 ],
 "metadata": {
  "kernelspec": {
   "display_name": "Python 3",
   "language": "python",
   "name": "python3"
  },
  "language_info": {
   "codemirror_mode": {
    "name": "ipython",
    "version": 3
   },
   "file_extension": ".py",
   "mimetype": "text/x-python",
   "name": "python",
   "nbconvert_exporter": "python",
   "pygments_lexer": "ipython3",
   "version": "3.6.1"
  }
 },
 "nbformat": 4,
 "nbformat_minor": 2
}

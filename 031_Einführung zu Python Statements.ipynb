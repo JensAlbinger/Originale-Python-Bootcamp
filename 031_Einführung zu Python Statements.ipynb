{
 "cells": [
  {
   "cell_type": "markdown",
   "metadata": {
    "collapsed": true
   },
   "source": [
    "# Einführung zu Python Statements\n",
    "\n",
    "In dieser Lektion werden wir uns einen kurzen Überbliock über Python Statements verschaffen. Diese Lektion wird die Unterschiede zwischen Python und anderen Sprachen wie C++ herausstellen.\n",
    "\n",
    "Es gibt zwei Gründe dafür, warum wir diesen Konext nutzen, um Pythin Statements zu lernen:\n",
    "\n",
    "1. Wenn ihr aus einem anderen Prgrammierumfeld kommt wird dies super schnell euer Verständnis von Python verbessern.\n",
    "2. Statements lesen und verstehen zu können wird es euch in der Zukunft erleichtern andere Sprachen schneller lesen und verstehen zu können. \n",
    "\n",
    "## Python vs andere Sprachen\n",
    "\n",
    "Lasst uns ein simples Statement erstellen, das besagt: \"Wenn a größer ist als b, dann weise a die Zahl 2 zu und b die Zahl 4.\"\n",
    "\n",
    "Schaut euch diese beiden Statements an:\n",
    "\n",
    "### Version 1 (andere Sprachen)\n",
    "\n",
    "    if (a>b){\n",
    "        a = 2;\n",
    "        b = 4;\n",
    "    }\n",
    "    \n",
    "### Version 2 (Python)\n",
    "\n",
    "    if a>b:\n",
    "        a = 2\n",
    "        b = 4\n",
    "        \n",
    "Ihr werdet feststellen, dass Python weniger überladen ist und sich viel einfacher lesen lässt als die erste Version. Wie stellt Python das an?\n",
    "\n",
    "Lasst uns die Hauptunterschiede betrachten:\n",
    "\n",
    "Python verzichtet auf () und {} durch zwei Hauptfaktoren: einen <i>Doppelpunkt</i> und <i>Leerraum</i>. Das Statement wird durch den Doppelpunkt beendet und der Leerraum (durch Einrückung) beschreibt, was passiert, sofern das Statement zutrifft.\n",
    "\n",
    "Zu guter Letzt, um diesen Überblick abzuschließen, schauen wir uns die Einrückung in python und anderen Sprachen genauer an:\n",
    "\n",
    "## Einrückung\n",
    "\n",
    "Hier ist ein bisschen Dummy Code um aufzuziegen, wie Leerraum und Einrückung in Python genutzt werden.\n",
    "\n",
    "### Andere Sprache\n",
    "\n",
    "    if (x)\n",
    "        if(y)\n",
    "            code-statement;\n",
    "    else\n",
    "        anderes-code-statement;\n",
    "\n",
    "### Python\n",
    "\n",
    "    if x:\n",
    "        if y:\n",
    "            code-statement\n",
    "    else:\n",
    "        anderes-code-statement\n",
    "        \n",
    "Achtet darauf, wie stark Python durch die Code Einrückung und den Leerraum getrieben wird. Das bedeutet, dass die Lesbarkeit des Codes eine der wichtigen Aspekte der Python Sprache ist.\n",
    "\n",
    "Jetzt lasst uns tiefer ins Coden von Statements in Python einsteigen!\n",
    "\n",
    "## Zeit zu coden!"
   ]
  },
  {
   "cell_type": "code",
   "execution_count": null,
   "metadata": {
    "collapsed": true
   },
   "outputs": [],
   "source": []
  }
 ],
 "metadata": {
  "kernelspec": {
   "display_name": "Python 2",
   "language": "python",
   "name": "python2"
  },
  "language_info": {
   "codemirror_mode": {
    "name": "ipython",
    "version": 2
   },
   "file_extension": ".py",
   "mimetype": "text/x-python",
   "name": "python",
   "nbconvert_exporter": "python",
   "pygments_lexer": "ipython2",
   "version": "2.7.13"
  }
 },
 "nbformat": 4,
 "nbformat_minor": 2
}

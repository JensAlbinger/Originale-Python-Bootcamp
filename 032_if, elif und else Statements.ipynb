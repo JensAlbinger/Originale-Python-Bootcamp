{
 "cells": [
  {
   "cell_type": "markdown",
   "metadata": {
    "collapsed": true
   },
   "source": [
    "# if, elif und else Statements\n",
    "\n",
    "if Statements erlauben uns in Python dem Computer aufzutragen alternative Aktionen in Abhängigkeit von bestimmten Ergebnissen durchzuführen.\n",
    "\n",
    "Das können wir uns ungefähr so vereinfachen:\n",
    "\n",
    "\"Hey, wenn dieser Fall eintritt, dann mache etwas bestimmtes.\"\n",
    "\n",
    "Diese Idee können wir dann durch elif and else Statements erweitern, welche uns folgendes ermöglichen:\n",
    "\n",
    "\"Hey, wenn dieser Fall eintritt (if), dann mache etwas bestimmtes. Wenn ein anderer Fall eintritt (elif), dann mache etwas anderes bestimmtes. Und sonst (else) - keiner der anderen Fälle trat ein - mache etwas anderes bestimmtes.\"\n",
    "\n",
    "Lasst uns die Syntax dafür betrachten: \n",
    "\n",
    "    if Fall 1:\n",
    "        erste Aktion\n",
    "    elif Fall 2:\n",
    "        zweite Aktion\n",
    "    else:\n",
    "        dritte Aktion\n",
    "        \n",
    "## Erstes Beispiel\n",
    "\n",
    "Lasst uns ein kurzes Beispiel betrachten:"
   ]
  },
  {
   "cell_type": "code",
   "execution_count": 1,
   "metadata": {
    "collapsed": false
   },
   "outputs": [
    {
     "name": "stdout",
     "output_type": "stream",
     "text": [
      "Es war wahr!\n"
     ]
    }
   ],
   "source": [
    "if True:\n",
    "    print 'Es war wahr!'"
   ]
  },
  {
   "cell_type": "markdown",
   "metadata": {},
   "source": [
    "Eine else Logik hinzufügen:"
   ]
  },
  {
   "cell_type": "code",
   "execution_count": 2,
   "metadata": {
    "collapsed": false
   },
   "outputs": [
    {
     "name": "stdout",
     "output_type": "stream",
     "text": [
      "Ich werde in jedem Fall ausgegeben, in dem x nicht wahr ist\n"
     ]
    }
   ],
   "source": [
    "x = False\n",
    "\n",
    "if x:\n",
    "    print 'X war wahr!'\n",
    "else:\n",
    "    print 'Ich werde in jedem Fall ausgegeben, in dem x nicht wahr ist'"
   ]
  },
  {
   "cell_type": "markdown",
   "metadata": {},
   "source": [
    "## Mehrere Zweige\n",
    "\n",
    "WIr können nun betrachten, wie weit uns if, elif und else bringen können!\n",
    "\n",
    "Wir schreiben eine eingebettete Struktur. Achtet darauf, wie if, elif und else auf selber Höhe geschrieben sind. Das kann euch helfen, zu verstehen, welche if, elif und else zusammenhängen.\n",
    "\n",
    "Wir nutzen jetzt die bereits bekannten Vergleichsoperatoren:"
   ]
  },
  {
   "cell_type": "code",
   "execution_count": 3,
   "metadata": {
    "collapsed": false
   },
   "outputs": [
    {
     "name": "stdout",
     "output_type": "stream",
     "text": [
      "Willkommen in der Bank!\n"
     ]
    }
   ],
   "source": [
    "loc = 'Bank'\n",
    "\n",
    "if loc == 'Autohaus':\n",
    "    print 'Willkommen im Autohaus!'\n",
    "elif loc == 'Bank':\n",
    "    print 'Willkommen in der Bank!'\n",
    "else:\n",
    "    print 'Wo bist du?'"
   ]
  },
  {
   "cell_type": "markdown",
   "metadata": {},
   "source": [
    "Das funktioniert so, dass jedes Statement darauf überprüft wird, ob es True (wahr) ist. Sobald das der Fall ist, wird der eingebettete Code ausgeführt. Würde dieser Fall nicht eintreffen, würde das else Statement aktiviert werden. Dabei ist interessant, dass wir so viele elif Statements einbauen können wie wir möchten, bevor wir mit dem else Statement abschließen.\n",
    "\n",
    "Lasst uns zwei weitere einfache Beispiele für die if, elif und else Statements betrachten:"
   ]
  },
  {
   "cell_type": "code",
   "execution_count": 4,
   "metadata": {
    "collapsed": false
   },
   "outputs": [
    {
     "name": "stdout",
     "output_type": "stream",
     "text": [
      "Wilkommen Sammy!\n"
     ]
    }
   ],
   "source": [
    "person = 'Sammy'\n",
    "\n",
    "if person == 'Sammy':\n",
    "    print 'Wilkommen Sammy!'\n",
    "else:\n",
    "    print \"Willkommen, wie lautet dein Name?\" "
   ]
  },
  {
   "cell_type": "code",
   "execution_count": 5,
   "metadata": {
    "collapsed": false
   },
   "outputs": [
    {
     "name": "stdout",
     "output_type": "stream",
     "text": [
      "Wilkommen George!\n"
     ]
    }
   ],
   "source": [
    "person = 'George'\n",
    "\n",
    "if person == 'Sammy':\n",
    "    print 'Wilkommen Sammy!'\n",
    "elif person == 'George':\n",
    "    print 'Wilkommen George!'\n",
    "else:\n",
    "    print \"Willkommen, wie lautet dein Name?\" "
   ]
  },
  {
   "cell_type": "markdown",
   "metadata": {},
   "source": [
    "## Einrückung\n",
    "\n",
    "Es ist wichtig immer auf die Einrückung des Codes nach den Statements zu achten. Dieser stellt die korrekte Reihenfolge und Ausführung des Codes sicher. Wir kommen später bei einem anderen Theme noch einmal darauf zurück."
   ]
  },
  {
   "cell_type": "code",
   "execution_count": null,
   "metadata": {
    "collapsed": true
   },
   "outputs": [],
   "source": []
  }
 ],
 "metadata": {
  "kernelspec": {
   "display_name": "Python 2",
   "language": "python",
   "name": "python2"
  },
  "language_info": {
   "codemirror_mode": {
    "name": "ipython",
    "version": 2
   },
   "file_extension": ".py",
   "mimetype": "text/x-python",
   "name": "python",
   "nbconvert_exporter": "python",
   "pygments_lexer": "ipython2",
   "version": "2.7.13"
  }
 },
 "nbformat": 4,
 "nbformat_minor": 2
}

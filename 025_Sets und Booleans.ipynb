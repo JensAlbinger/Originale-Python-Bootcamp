{
 "cells": [
  {
   "cell_type": "markdown",
   "metadata": {
    "collapsed": true
   },
   "source": [
    "# Sets und Booleans\n",
    "\n",
    "Es gibt zwei weitere Objekt Arten in Python, die wir uns anschauen sollten. Sets und Booleans.\n",
    "\n",
    "## Sets\n",
    "\n",
    "Sets sind ungeordnete Sammlungen von einzigartigen Elementen. Wir können sie erstellen, indem wir die set() Funktion nutzen. Lasst uns fortfahren und ein Set erstellen, um zu verstehen, wie es funktioniert:"
   ]
  },
  {
   "cell_type": "code",
   "execution_count": 1,
   "metadata": {
    "collapsed": true
   },
   "outputs": [],
   "source": [
    "x = set()"
   ]
  },
  {
   "cell_type": "code",
   "execution_count": 2,
   "metadata": {
    "collapsed": true
   },
   "outputs": [],
   "source": [
    "# Wir fügen Elemente zu Sets durch die add() Funktion hinzu\n",
    "x.add(1)"
   ]
  },
  {
   "cell_type": "code",
   "execution_count": 3,
   "metadata": {
    "collapsed": false
   },
   "outputs": [
    {
     "data": {
      "text/plain": [
       "{1}"
      ]
     },
     "execution_count": 3,
     "metadata": {},
     "output_type": "execute_result"
    }
   ],
   "source": [
    "# Check\n",
    "x"
   ]
  },
  {
   "cell_type": "markdown",
   "metadata": {},
   "source": [
    "Die geschweiften Klammern bemerkt? Das bedeutet allerdings nicht, dass wir hier ein Dictionary haben! Nichtsdestotrotz lassen sich Parallelen ziehen und ein Set kann als Dictionary verstanden werden, das nur Keys beinhaltet.\n",
    "\n",
    "Wir wissen bereits, dass Sets einzigartige Elemente beinhalten. Was passiert dann, wenn wir etwas hinzufügen wollen, das bereits beinhaltet ist?"
   ]
  },
  {
   "cell_type": "code",
   "execution_count": 4,
   "metadata": {
    "collapsed": true
   },
   "outputs": [],
   "source": [
    "# Ein neues Element hinzufügen\n",
    "x.add(2)"
   ]
  },
  {
   "cell_type": "code",
   "execution_count": 5,
   "metadata": {
    "collapsed": false
   },
   "outputs": [
    {
     "data": {
      "text/plain": [
       "{1, 2}"
      ]
     },
     "execution_count": 5,
     "metadata": {},
     "output_type": "execute_result"
    }
   ],
   "source": [
    "# Check\n",
    "x"
   ]
  },
  {
   "cell_type": "code",
   "execution_count": 6,
   "metadata": {
    "collapsed": true
   },
   "outputs": [],
   "source": [
    "# Ein bereits enthaltenes Element hinzufügen\n",
    "x.add(1)"
   ]
  },
  {
   "cell_type": "code",
   "execution_count": 7,
   "metadata": {
    "collapsed": false
   },
   "outputs": [
    {
     "data": {
      "text/plain": [
       "{1, 2}"
      ]
     },
     "execution_count": 7,
     "metadata": {},
     "output_type": "execute_result"
    }
   ],
   "source": [
    "# Check\n",
    "x"
   ]
  },
  {
   "cell_type": "markdown",
   "metadata": {},
   "source": [
    "Wir sehen: es wurde keine weitere 1 eingefügt. Das liegt genau daran, dass Sets nur einzigartige Elemente beinhalten. Wir können eine Liste mit verschiedenen sich wiederholenden Elementen an ein Set übergeben und erhalten die einzigartigen Elemente. Zum Beispiel:"
   ]
  },
  {
   "cell_type": "code",
   "execution_count": 8,
   "metadata": {
    "collapsed": true
   },
   "outputs": [],
   "source": [
    "# Liste sich wiederholender Elemente erstellen\n",
    "l = [1,2,1,1,3,5,3,4,6,2]"
   ]
  },
  {
   "cell_type": "code",
   "execution_count": 9,
   "metadata": {
    "collapsed": false
   },
   "outputs": [
    {
     "data": {
      "text/plain": [
       "{1, 2, 3, 4, 5, 6}"
      ]
     },
     "execution_count": 9,
     "metadata": {},
     "output_type": "execute_result"
    }
   ],
   "source": [
    "# Die liste an ein Set übergeben\n",
    "set(l)"
   ]
  },
  {
   "cell_type": "markdown",
   "metadata": {},
   "source": [
    "## Booleans\n",
    "\n",
    "Python verfügt über Booleans (Wahrheitswerte, die entweder Wahr (True) oder Falsch (False) annehmen können). Es verfügt außerdem über eine Platzhalter Objekt names None. Lasst uns einige kurze Beispiele betrachten (bevor wir in das Thema in eienr späteren Lektion vertiefen):"
   ]
  },
  {
   "cell_type": "code",
   "execution_count": 10,
   "metadata": {
    "collapsed": true
   },
   "outputs": [],
   "source": [
    "# Ein Objekt zu einem Boolean machen\n",
    "a = True"
   ]
  },
  {
   "cell_type": "code",
   "execution_count": 11,
   "metadata": {
    "collapsed": false
   },
   "outputs": [
    {
     "data": {
      "text/plain": [
       "True"
      ]
     },
     "execution_count": 11,
     "metadata": {},
     "output_type": "execute_result"
    }
   ],
   "source": [
    "# Check\n",
    "a"
   ]
  },
  {
   "cell_type": "markdown",
   "metadata": {},
   "source": [
    "Wir können None als Platzhalter benutzen, wenn wir einem Objekt noch keinen speziellen Wahrheitswert zuordnen wollen:"
   ]
  },
  {
   "cell_type": "code",
   "execution_count": 12,
   "metadata": {
    "collapsed": true
   },
   "outputs": [],
   "source": [
    "# None Platzhalter\n",
    "b = None"
   ]
  },
  {
   "cell_type": "markdown",
   "metadata": {},
   "source": [
    "Das ist es! Du solltest jetzt ein grundsätzliches Verständnis für Objekte und Datenstrukturen in Python haben. Als nächstes kannst du dir die Assessment Aufgabe anschauen!"
   ]
  }
 ],
 "metadata": {
  "kernelspec": {
   "display_name": "Python 2",
   "language": "python",
   "name": "python2"
  },
  "language_info": {
   "codemirror_mode": {
    "name": "ipython",
    "version": 2
   },
   "file_extension": ".py",
   "mimetype": "text/x-python",
   "name": "python",
   "nbconvert_exporter": "python",
   "pygments_lexer": "ipython2",
   "version": "2.7.13"
  }
 },
 "nbformat": 4,
 "nbformat_minor": 2
}

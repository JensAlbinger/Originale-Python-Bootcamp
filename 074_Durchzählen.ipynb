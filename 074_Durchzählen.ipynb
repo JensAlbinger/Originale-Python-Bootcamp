{
 "cells": [
  {
   "cell_type": "markdown",
   "metadata": {
    "collapsed": true
   },
   "source": [
    "# Durchzählen\n",
    "\n",
    "In dieser Lektion werden wir über die extrem nützliche vorinstallierte Funktion enumerate() (durchzählen) lernen. Enumerate erlaubt es uns durchzuzählen, während wir durch ein Objekt iterieren. Dies tut sie, indem ein Tupel in der Form (Zähler, Element) zurückgegeben wird. Die Funktion selbst ist equivalent zu:\n",
    "    \n",
    "    def enumerate(sequenz, start=0):\n",
    "        n = start\n",
    "        for elem in sequenz:\n",
    "            yield n, elem\n",
    "            n += 1\n",
    "            \n",
    "## Beispiel"
   ]
  },
  {
   "cell_type": "code",
   "execution_count": 1,
   "metadata": {},
   "outputs": [
    {
     "name": "stdout",
     "output_type": "stream",
     "text": [
      "0\n",
      "a\n",
      "1\n",
      "b\n",
      "2\n",
      "c\n"
     ]
    }
   ],
   "source": [
    "lst = ['a','b','c']\n",
    "\n",
    "for number, item in enumerate(lst):\n",
    "    print(number)\n",
    "    print(item)"
   ]
  },
  {
   "cell_type": "markdown",
   "metadata": {},
   "source": [
    "enumerate() wird besonders wichtig, wenn wir eine Art Limit bzw. einen Auslöser haben. Zum Beispiel:"
   ]
  },
  {
   "cell_type": "code",
   "execution_count": 3,
   "metadata": {},
   "outputs": [
    {
     "name": "stdout",
     "output_type": "stream",
     "text": [
      "a\n",
      "b\n"
     ]
    }
   ],
   "source": [
    "for count,item in enumerate(lst):\n",
    "    if count >=2:\n",
    "        break\n",
    "    else:\n",
    "        print(item)"
   ]
  },
  {
   "cell_type": "markdown",
   "metadata": {},
   "source": [
    "Toll! Ihr solltet jetzt verstehen, was enumerate() macht und wie wir es sinnvoll verwenden können."
   ]
  },
  {
   "cell_type": "code",
   "execution_count": null,
   "metadata": {
    "collapsed": true
   },
   "outputs": [],
   "source": []
  }
 ],
 "metadata": {
  "kernelspec": {
   "display_name": "Python 3",
   "language": "python",
   "name": "python3"
  },
  "language_info": {
   "codemirror_mode": {
    "name": "ipython",
    "version": 3
   },
   "file_extension": ".py",
   "mimetype": "text/x-python",
   "name": "python",
   "nbconvert_exporter": "python",
   "pygments_lexer": "ipython3",
   "version": "3.6.1"
  }
 },
 "nbformat": 4,
 "nbformat_minor": 2
}
